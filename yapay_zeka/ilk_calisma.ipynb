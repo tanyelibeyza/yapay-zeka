{
 "cells": [
  {
   "cell_type": "code",
   "execution_count": 6,
   "id": "fd44bfdc-aa86-4b97-8c9d-ef3874be6a6b",
   "metadata": {},
   "outputs": [
    {
     "data": {
      "text/plain": [
       "array([1, 2, 3])"
      ]
     },
     "execution_count": 6,
     "metadata": {},
     "output_type": "execute_result"
    }
   ],
   "source": [
    "import numpy as np #numpy kütüphanesini np olarak ekler\n",
    "dizi=np.array([1,2,3]) #numpy dizisi oluşturur\n",
    "dizi=np.array([\"armut\"\",cilek\",\"seftali\"]) #numpy dizisini atama işlemi yapar\n",
    "dizi=np.array([1,2,3,],dtype=int) #değerlerini içeren bir dizi oluşturur\n",
    "dizi #dizilerin avantıjı içindeki verilere göre kendisi tek tip olarak ayarlanması\n"
   ]
  },
  {
   "cell_type": "code",
   "execution_count": 7,
   "id": "9b6bff52-3deb-48c0-87ca-db182584f04e",
   "metadata": {},
   "outputs": [
    {
     "data": {
      "text/plain": [
       "array(['armut,cilek', 'seftali'], dtype='<U11')"
      ]
     },
     "execution_count": 7,
     "metadata": {},
     "output_type": "execute_result"
    }
   ],
   "source": [
    "dizi2"
   ]
  },
  {
   "cell_type": "code",
   "execution_count": 8,
   "id": "4ea6eae9-2822-4023-894d-f6fea98a48e7",
   "metadata": {},
   "outputs": [
    {
     "data": {
      "text/plain": [
       "array([1, 2, 3, 3])"
      ]
     },
     "execution_count": 8,
     "metadata": {},
     "output_type": "execute_result"
    }
   ],
   "source": [
    "dizi3"
   ]
  },
  {
   "cell_type": "code",
   "execution_count": 10,
   "id": "abd07d28-4018-4898-a7e9-2c51a31ec810",
   "metadata": {},
   "outputs": [],
   "source": [
    "birboyut=np.array([1,2,3])\n"
   ]
  },
  {
   "cell_type": "code",
   "execution_count": 11,
   "id": "1ecf6d7c-42f8-419d-9f48-ec685193105f",
   "metadata": {},
   "outputs": [
    {
     "data": {
      "text/plain": [
       "array([1, 2, 3])"
      ]
     },
     "execution_count": 11,
     "metadata": {},
     "output_type": "execute_result"
    }
   ],
   "source": [
    "birboyut"
   ]
  },
  {
   "cell_type": "code",
   "execution_count": 12,
   "id": "2046c886-b2cf-4b6c-9808-97246133f543",
   "metadata": {},
   "outputs": [],
   "source": [
    "ikiboyut = np.array([[1,2,3], [4,5,6]])"
   ]
  },
  {
   "cell_type": "code",
   "execution_count": 13,
   "id": "2862dcf5-8dc7-41d1-bfc3-1b7d234a876f",
   "metadata": {},
   "outputs": [
    {
     "data": {
      "text/plain": [
       "array([[1, 2, 3],\n",
       "       [4, 5, 6]])"
      ]
     },
     "execution_count": 13,
     "metadata": {},
     "output_type": "execute_result"
    }
   ],
   "source": [
    "ikiboyut"
   ]
  },
  {
   "cell_type": "code",
   "execution_count": 14,
   "id": "2f19bdd0-a81f-4a18-8b33-89890f9644aa",
   "metadata": {},
   "outputs": [],
   "source": [
    "ucboyut= np.array([[[1,2,3], [4,5,6]], [[1,2,3], [4,5,6]]])"
   ]
  },
  {
   "cell_type": "code",
   "execution_count": 15,
   "id": "ec796300-3a9f-40ff-8a9f-1ea16081576f",
   "metadata": {},
   "outputs": [
    {
     "data": {
      "text/plain": [
       "array([[[1, 2, 3],\n",
       "        [4, 5, 6]],\n",
       "\n",
       "       [[1, 2, 3],\n",
       "        [4, 5, 6]]])"
      ]
     },
     "execution_count": 15,
     "metadata": {},
     "output_type": "execute_result"
    }
   ],
   "source": [
    "ucboyut"
   ]
  },
  {
   "cell_type": "code",
   "execution_count": null,
   "id": "aadd5230-ef8e-41a2-878d-6d7439d9948b",
   "metadata": {},
   "outputs": [],
   "source": []
  }
 ],
 "metadata": {
  "kernelspec": {
   "display_name": "Python 3 (ipykernel)",
   "language": "python",
   "name": "python3"
  },
  "language_info": {
   "codemirror_mode": {
    "name": "ipython",
    "version": 3
   },
   "file_extension": ".py",
   "mimetype": "text/x-python",
   "name": "python",
   "nbconvert_exporter": "python",
   "pygments_lexer": "ipython3",
   "version": "3.11.7"
  }
 },
 "nbformat": 4,
 "nbformat_minor": 5
}
