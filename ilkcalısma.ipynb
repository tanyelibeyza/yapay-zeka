{
 "cells": [
  {
   "cell_type": "code",
   "execution_count": 3,
   "id": "3e26b36f-551e-4e4c-8494-9db7e29ab42a",
   "metadata": {},
   "outputs": [],
   "source": [
    "import numpy as np #nump kütüphanesi np takma adı ile projeye dahil ediyoruz "
   ]
  },
  {
   "cell_type": "code",
   "execution_count": 4,
   "id": "1dbfed6f-84bb-4fad-9363-61275987f169",
   "metadata": {},
   "outputs": [
    {
     "data": {
      "text/plain": [
       "array([[5, 5, 5],\n",
       "       [5, 5, 5],\n",
       "       [5, 5, 5],\n",
       "       [5, 5, 5]])"
      ]
     },
     "execution_count": 4,
     "metadata": {},
     "output_type": "execute_result"
    }
   ],
   "source": [
    "dizi=np.full((4,3),5)#5 sayısında oluşan 2*3 lük dizi\n",
    "dizi"
   ]
  },
  {
   "cell_type": "code",
   "execution_count": 5,
   "id": "ff980b41-e618-446b-95df-03bf2ea55005",
   "metadata": {},
   "outputs": [
    {
     "data": {
      "text/plain": [
       "array([1, 2, 3])"
      ]
     },
     "execution_count": 5,
     "metadata": {},
     "output_type": "execute_result"
    }
   ],
   "source": [
    "#yeni bir numpy dizisi oluşturuyoruz\n",
    "np.array([1,2,3])"
   ]
  },
  {
   "cell_type": "code",
   "execution_count": 6,
   "id": "60d11480-989a-4837-87be-e3b2ba9d3964",
   "metadata": {},
   "outputs": [],
   "source": [
    "#oluşturdugumuz diziyi bir degişken aktarıyoruz\n",
    "dizi=np.array([\"Elma\",\"Erik\",\"iğde\"])"
   ]
  },
  {
   "cell_type": "code",
   "execution_count": 7,
   "id": "272984ad-df9c-46a7-92e1-15cfd0aa6810",
   "metadata": {},
   "outputs": [
    {
     "data": {
      "text/plain": [
       "array(['Elma', 'Erik', 'iğde'], dtype='<U4')"
      ]
     },
     "execution_count": 7,
     "metadata": {},
     "output_type": "execute_result"
    }
   ],
   "source": [
    "dizi"
   ]
  },
  {
   "cell_type": "code",
   "execution_count": 11,
   "id": "d9f85c45-0a55-4851-9700-dcea55438192",
   "metadata": {},
   "outputs": [
    {
     "data": {
      "text/plain": [
       "array([1, 2, 3])"
      ]
     },
     "execution_count": 11,
     "metadata": {},
     "output_type": "execute_result"
    }
   ],
   "source": [
    "dizi=np.array([1,2,3])\n",
    "dizi"
   ]
  },
  {
   "cell_type": "code",
   "execution_count": 12,
   "id": "c6fb4664-fd53-4e4f-ba98-9ec153830905",
   "metadata": {},
   "outputs": [
    {
     "data": {
      "text/plain": [
       "array([1.  , 2.  , 3.14])"
      ]
     },
     "execution_count": 12,
     "metadata": {},
     "output_type": "execute_result"
    }
   ],
   "source": [
    "dizi=np.array([1,2,3.14])\n",
    "dizi"
   ]
  },
  {
   "cell_type": "code",
   "execution_count": 13,
   "id": "57f03eda-a301-4122-8aa4-a1f7e20abd9f",
   "metadata": {},
   "outputs": [
    {
     "data": {
      "text/plain": [
       "dtype('float64')"
      ]
     },
     "execution_count": 13,
     "metadata": {},
     "output_type": "execute_result"
    }
   ],
   "source": [
    "dizi.dtype #dizinin degişken türünü verir.nump dizilerinde elemanların hepsi aynı türdendir"
   ]
  },
  {
   "cell_type": "code",
   "execution_count": 21,
   "id": "364303ad-f8f0-441a-aac5-13785b5988fd",
   "metadata": {},
   "outputs": [],
   "source": [
    "dizi=np.array([1,2,3,14], dtype=int)\n"
   ]
  },
  {
   "cell_type": "code",
   "execution_count": 22,
   "id": "d80dd654-b3f3-4163-9245-615ca1405d8a",
   "metadata": {},
   "outputs": [
    {
     "data": {
      "text/plain": [
       "array([ 1,  2,  3, 14])"
      ]
     },
     "execution_count": 22,
     "metadata": {},
     "output_type": "execute_result"
    }
   ],
   "source": [
    "dizi"
   ]
  },
  {
   "cell_type": "markdown",
   "id": "a1b91dcb-30a7-4456-90ba-25ce138bc073",
   "metadata": {},
   "source": [
    "**numpy ile farklı boyutlarda dizi oluşturma**"
   ]
  },
  {
   "cell_type": "code",
   "execution_count": 23,
   "id": "39da6d49-9946-40e5-8271-71d4f28f3c98",
   "metadata": {},
   "outputs": [],
   "source": [
    "#bir boyuta dizi oluşturma\n",
    "birboyut=np.array([1,2,3,4])\n",
    "#iki boyut dizi oluşturma\n",
    "ikiboyut=np.array([[1,2,3,4],[5,6,7,8],[9,10,11,12]])"
   ]
  },
  {
   "cell_type": "code",
   "execution_count": 24,
   "id": "2e63612a-cb96-4f31-aa53-44ae809f2366",
   "metadata": {},
   "outputs": [
    {
     "data": {
      "text/plain": [
       "array([1, 2, 3, 4])"
      ]
     },
     "execution_count": 24,
     "metadata": {},
     "output_type": "execute_result"
    }
   ],
   "source": [
    "birboyut"
   ]
  },
  {
   "cell_type": "code",
   "execution_count": 25,
   "id": "db4d4a9f-fb1a-4c58-ac00-30c7f8f21c2e",
   "metadata": {},
   "outputs": [
    {
     "data": {
      "text/plain": [
       "array([[ 1,  2,  3,  4],\n",
       "       [ 5,  6,  7,  8],\n",
       "       [ 9, 10, 11, 12]])"
      ]
     },
     "execution_count": 25,
     "metadata": {},
     "output_type": "execute_result"
    }
   ],
   "source": [
    "ikiboyut"
   ]
  },
  {
   "cell_type": "markdown",
   "id": "193b4477-4ca6-4f97-993e-104ac82ea316",
   "metadata": {},
   "source": [
    "**Numpy yer tutucu**"
   ]
  },
  {
   "cell_type": "code",
   "execution_count": 26,
   "id": "5af6ec22-9c0e-4431-9d1f-c47407bb7204",
   "metadata": {},
   "outputs": [
    {
     "data": {
      "text/plain": [
       "array([0., 0., 0., 0., 0., 0., 0.])"
      ]
     },
     "execution_count": 26,
     "metadata": {},
     "output_type": "execute_result"
    }
   ],
   "source": [
    "np.zeros(7) #7 sıfırdan oluşan tek boyutlu dizi oluşturur."
   ]
  },
  {
   "cell_type": "code",
   "execution_count": 27,
   "id": "94be12b1-d816-46a7-aa5a-f1099d7144e4",
   "metadata": {},
   "outputs": [
    {
     "data": {
      "text/plain": [
       "array([[0, 0, 0],\n",
       "       [0, 0, 0]])"
      ]
     },
     "execution_count": 27,
     "metadata": {},
     "output_type": "execute_result"
    }
   ],
   "source": [
    "np.zeros((2,3),dtype=int)#*sıfırdan olusan 2 boyutlu int dizi oluşturur."
   ]
  },
  {
   "cell_type": "code",
   "execution_count": 28,
   "id": "b0d86d7c-99e0-4e9c-a9b3-b972d5a15ce3",
   "metadata": {},
   "outputs": [
    {
     "data": {
      "text/plain": [
       "array([1., 1., 1.])"
      ]
     },
     "execution_count": 28,
     "metadata": {},
     "output_type": "execute_result"
    }
   ],
   "source": [
    "np.ones(3)"
   ]
  },
  {
   "cell_type": "code",
   "execution_count": 29,
   "id": "3ab6fe11-d48a-4134-90d4-4f0a934ebc9d",
   "metadata": {},
   "outputs": [
    {
     "data": {
      "text/plain": [
       "array([[5, 5, 5],\n",
       "       [5, 5, 5],\n",
       "       [5, 5, 5],\n",
       "       [5, 5, 5]])"
      ]
     },
     "execution_count": 29,
     "metadata": {},
     "output_type": "execute_result"
    }
   ],
   "source": [
    "np.full((4,3),5)#5 sayısında oluşan 2*3 lük dizi"
   ]
  },
  {
   "cell_type": "code",
   "execution_count": 30,
   "id": "69de2978-c980-425e-9c7f-55197836dd45",
   "metadata": {},
   "outputs": [
    {
     "data": {
      "text/plain": [
       "array([ 2,  7, 12, 17])"
      ]
     },
     "execution_count": 30,
     "metadata": {},
     "output_type": "execute_result"
    }
   ],
   "source": [
    "np.arange(2,22,5)#baslangıc bitiş ve artış degerlerine göre dizi oluşturma"
   ]
  },
  {
   "cell_type": "code",
   "execution_count": 31,
   "id": "8ef83f8e-4243-428b-8eb8-85f374a371d2",
   "metadata": {},
   "outputs": [
    {
     "data": {
      "text/plain": [
       "array([ 2.        ,  3.33333333,  4.66666667,  6.        ,  7.33333333,\n",
       "        8.66666667, 10.        ])"
      ]
     },
     "execution_count": 31,
     "metadata": {},
     "output_type": "execute_result"
    }
   ],
   "source": [
    "np.linspace(2,10,num=7)#baslangıc bitiş ve artış belirtilen miktarda esit aralık"
   ]
  },
  {
   "cell_type": "code",
   "execution_count": 32,
   "id": "579c68cf-f39b-4e39-bb0d-bfe1dbe21888",
   "metadata": {},
   "outputs": [
    {
     "data": {
      "text/plain": [
       "array([0, 1, 5, 6, 5])"
      ]
     },
     "execution_count": 32,
     "metadata": {},
     "output_type": "execute_result"
    }
   ],
   "source": [
    "np.random.randint(0,10,5)#0-10 aralıgında rasgele 5 sayıdan oluşan bir boyutlu dizi"
   ]
  },
  {
   "cell_type": "code",
   "execution_count": 33,
   "id": "6fabbd25-7641-4ab1-a2e7-26129131c627",
   "metadata": {},
   "outputs": [
    {
     "data": {
      "text/plain": [
       "array([[7, 9],\n",
       "       [9, 3],\n",
       "       [6, 5],\n",
       "       [4, 3],\n",
       "       [3, 3]])"
      ]
     },
     "execution_count": 33,
     "metadata": {},
     "output_type": "execute_result"
    }
   ],
   "source": [
    "np.random.randint(0,10,(5,2))#0-10 aralıgında 5*2 rasgele sayılardan oluşan bir boyutlu diz"
   ]
  },
  {
   "cell_type": "markdown",
   "id": "ac985a9a-cd97-4266-8d16-5632a4dc8cfc",
   "metadata": {},
   "source": [
    "**Diziler ile ilgili işlemler**"
   ]
  },
  {
   "cell_type": "code",
   "execution_count": 34,
   "id": "76764e23-022c-4eb9-beac-44378ad0261d",
   "metadata": {},
   "outputs": [
    {
     "data": {
      "text/plain": [
       "(3, 4)"
      ]
     },
     "execution_count": 34,
     "metadata": {},
     "output_type": "execute_result"
    }
   ],
   "source": [
    "#dizilerin eleman sayısını ögrenmek için shape komutu kullanılır\n",
    "dizi=np.array([[1,2,3,4],[5,6,7,8],[9,10,11,12]])\n",
    "dizi.shape"
   ]
  },
  {
   "cell_type": "code",
   "execution_count": 35,
   "id": "fe96bd4b-5e57-4e5a-a1e9-0a7a43be4212",
   "metadata": {},
   "outputs": [
    {
     "data": {
      "text/plain": [
       "2"
      ]
     },
     "execution_count": 35,
     "metadata": {},
     "output_type": "execute_result"
    }
   ],
   "source": [
    "#ndim dizi boyutunu ögrenmek için kullanılır\n",
    "dizi.ndim"
   ]
  },
  {
   "cell_type": "code",
   "execution_count": 36,
   "id": "4f344eb0-3c7f-4015-a54e-1b1744d8a0be",
   "metadata": {},
   "outputs": [
    {
     "data": {
      "text/plain": [
       "12"
      ]
     },
     "execution_count": 36,
     "metadata": {},
     "output_type": "execute_result"
    }
   ],
   "source": [
    "#size dizideki toplam eleman sayısını gösterir\n",
    "dizi.size"
   ]
  },
  {
   "cell_type": "code",
   "execution_count": 37,
   "id": "677319cb-a448-4c98-a368-c13188e4b096",
   "metadata": {},
   "outputs": [
    {
     "data": {
      "text/plain": [
       "4"
      ]
     },
     "execution_count": 37,
     "metadata": {},
     "output_type": "execute_result"
    }
   ],
   "source": [
    "dizi.itemsize #dizideki her bir elemanın bayt cinsinde degerini verir"
   ]
  },
  {
   "cell_type": "code",
   "execution_count": null,
   "id": "438db40c-961f-403c-8962-41aa95754890",
   "metadata": {},
   "outputs": [],
   "source": []
  }
 ],
 "metadata": {
  "kernelspec": {
   "display_name": "Python 3 (ipykernel)",
   "language": "python",
   "name": "python3"
  },
  "language_info": {
   "codemirror_mode": {
    "name": "ipython",
    "version": 3
   },
   "file_extension": ".py",
   "mimetype": "text/x-python",
   "name": "python",
   "nbconvert_exporter": "python",
   "pygments_lexer": "ipython3",
   "version": "3.11.7"
  }
 },
 "nbformat": 4,
 "nbformat_minor": 5
}
